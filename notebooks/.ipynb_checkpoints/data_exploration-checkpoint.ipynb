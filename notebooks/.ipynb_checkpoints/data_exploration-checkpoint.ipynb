{
 "cells": [
  {
   "cell_type": "markdown",
   "id": "32acf77a-3833-4d81-a707-a2870d7a6748",
   "metadata": {},
   "source": [
    "# Movie Recommendation System using SVD\n",
    "In this notebook, we'll build a simple movie recommendation system using **Singular Value Decomposition (SVD)**. We'll use the MovieLens dataset to find movies similar to a randomly selected movie based on user ratings.\n",
    "\n",
    "## Import Libraries"
   ]
  },
  {
   "cell_type": "code",
   "execution_count": 29,
   "id": "2744c092-c19c-4742-942c-0f9b0a2dd597",
   "metadata": {},
   "outputs": [],
   "source": [
    "import pandas as pd\n",
    "import numpy as np\n",
    "import random\n",
    "from sklearn.metrics.pairwise import cosine_similarity\n",
    "from sklearn.decomposition import TruncatedSVD"
   ]
  },
  {
   "cell_type": "markdown",
   "id": "afa3ef83-2a88-4526-b7cc-3467cfe4effc",
   "metadata": {},
   "source": [
    "## Load the Data\n",
    "First, we'll load the user ratings and movie titles, and then merge them into a single dataframe."
   ]
  },
  {
   "cell_type": "code",
   "execution_count": 30,
   "id": "cc94eba9-1ff7-4e8a-bf08-172c023f5f07",
   "metadata": {
    "tags": []
   },
   "outputs": [],
   "source": [
    "# Load ratings data\n",
    "column_names = ['user_id', 'item_id', 'rating', 'timestamp']\n",
    "ratings = pd.read_csv('../data/movielens/u.data', sep='\\t', names=column_names)\n",
    "\n",
    "# Load movie titles\n",
    "movie_titles = pd.read_csv('../data/movielens/u.item', sep='|', encoding='latin-1',\n",
    "                           usecols=[0, 1], names=['item_id', 'title'])\n",
    "\n",
    "# Merge the datasets\n",
    "data = pd.merge(ratings, movie_titles, on='item_id')"
   ]
  },
  {
   "cell_type": "markdown",
   "id": "d1a51e10-bcf2-48cb-b8a3-4680370211fd",
   "metadata": {},
   "source": [
    "## Explore the Data\n",
    "Let's take a quick look at the data to understand its structure."
   ]
  },
  {
   "cell_type": "code",
   "execution_count": 5,
   "id": "d73ae0b7-4744-4a69-90d4-0907b0d018e6",
   "metadata": {
    "tags": []
   },
   "outputs": [
    {
     "data": {
      "text/html": [
       "<div>\n",
       "<style scoped>\n",
       "    .dataframe tbody tr th:only-of-type {\n",
       "        vertical-align: middle;\n",
       "    }\n",
       "\n",
       "    .dataframe tbody tr th {\n",
       "        vertical-align: top;\n",
       "    }\n",
       "\n",
       "    .dataframe thead th {\n",
       "        text-align: right;\n",
       "    }\n",
       "</style>\n",
       "<table border=\"1\" class=\"dataframe\">\n",
       "  <thead>\n",
       "    <tr style=\"text-align: right;\">\n",
       "      <th></th>\n",
       "      <th>user_id</th>\n",
       "      <th>item_id</th>\n",
       "      <th>rating</th>\n",
       "      <th>timestamp</th>\n",
       "      <th>title</th>\n",
       "    </tr>\n",
       "  </thead>\n",
       "  <tbody>\n",
       "    <tr>\n",
       "      <th>0</th>\n",
       "      <td>196</td>\n",
       "      <td>242</td>\n",
       "      <td>3</td>\n",
       "      <td>881250949</td>\n",
       "      <td>Kolya (1996)</td>\n",
       "    </tr>\n",
       "    <tr>\n",
       "      <th>1</th>\n",
       "      <td>63</td>\n",
       "      <td>242</td>\n",
       "      <td>3</td>\n",
       "      <td>875747190</td>\n",
       "      <td>Kolya (1996)</td>\n",
       "    </tr>\n",
       "    <tr>\n",
       "      <th>2</th>\n",
       "      <td>226</td>\n",
       "      <td>242</td>\n",
       "      <td>5</td>\n",
       "      <td>883888671</td>\n",
       "      <td>Kolya (1996)</td>\n",
       "    </tr>\n",
       "    <tr>\n",
       "      <th>3</th>\n",
       "      <td>154</td>\n",
       "      <td>242</td>\n",
       "      <td>3</td>\n",
       "      <td>879138235</td>\n",
       "      <td>Kolya (1996)</td>\n",
       "    </tr>\n",
       "    <tr>\n",
       "      <th>4</th>\n",
       "      <td>306</td>\n",
       "      <td>242</td>\n",
       "      <td>5</td>\n",
       "      <td>876503793</td>\n",
       "      <td>Kolya (1996)</td>\n",
       "    </tr>\n",
       "  </tbody>\n",
       "</table>\n",
       "</div>"
      ],
      "text/plain": [
       "   user_id  item_id  rating  timestamp         title\n",
       "0      196      242       3  881250949  Kolya (1996)\n",
       "1       63      242       3  875747190  Kolya (1996)\n",
       "2      226      242       5  883888671  Kolya (1996)\n",
       "3      154      242       3  879138235  Kolya (1996)\n",
       "4      306      242       5  876503793  Kolya (1996)"
      ]
     },
     "execution_count": 5,
     "metadata": {},
     "output_type": "execute_result"
    }
   ],
   "source": [
    "data.head()"
   ]
  },
  {
   "cell_type": "markdown",
   "id": "54242a9a-d83d-4adb-a9b6-747424638aeb",
   "metadata": {},
   "source": [
    "## Create the User-Item Ratings Matrix\n",
    "We pivot the data to create a matrix where each row represents a user and each column represents a movie. The values are the ratings given by users to movies."
   ]
  },
  {
   "cell_type": "code",
   "execution_count": 10,
   "id": "8f3adb4e-0f3c-4c03-8b11-a5d4e985d184",
   "metadata": {},
   "outputs": [],
   "source": [
    "ratings_matrix = data.pivot_table(index='user_id', columns='title', values='rating')"
   ]
  },
  {
   "cell_type": "markdown",
   "id": "f9addd7e-9c2f-4406-845e-51d64dbe5def",
   "metadata": {},
   "source": [
    "## Fill Missing Values\n",
    "Since not all users have rated all movies, there will be missing values in the matrix. We'll replace these missing values with zeros to prepare the data for SVD."
   ]
  },
  {
   "cell_type": "code",
   "execution_count": 31,
   "id": "7ea445d9-71a4-48a4-84df-1f8511d65bed",
   "metadata": {},
   "outputs": [],
   "source": [
    "ratings_matrix_filled = ratings_matrix.fillna(0)"
   ]
  },
  {
   "cell_type": "markdown",
   "id": "a3dd3950-4df1-430d-aa43-060b7f23c912",
   "metadata": {},
   "source": [
    "## Perform Singular Value Decomposition (SVD)\n",
    "We use SVD to reduce the dimensionality of the ratings matrix and uncover latent features that capture the underlying structure in the data."
   ]
  },
  {
   "cell_type": "code",
   "execution_count": 32,
   "id": "51b299a2-4d92-4a22-95be-5797f11c012b",
   "metadata": {},
   "outputs": [],
   "source": [
    "# Perform SVD with reduced components\n",
    "svd = TruncatedSVD(n_components=20)\n",
    "svd_matrix = svd.fit_transform(ratings_matrix_filled.T)"
   ]
  },
  {
   "cell_type": "markdown",
   "id": "ac7d2f7a-4252-4d09-87cb-28b9fa62f6e8",
   "metadata": {},
   "source": [
    "### Understanding SVD\n",
    "\n",
    "SVD factorizes the matrix $ A $ into three matrices:\n",
    "\n",
    "$$\n",
    "A \\approx U \\Sigma V^T\n",
    "$$\n",
    "\n",
    "- $ U $ : Left singular vectors (movies in latent feature space)\n",
    "- $ \\Sigma $ : Singular values (importance of each latent feature)\n",
    "- $ V^T $ : Right singular vectors (users in latent feature space)\n",
    "\n",
    "By reducing the number of components, we capture the most significant patterns in user ratings.\n",
    "\n",
    "### Build the Recommendation Function\n",
    "\n",
    "We define a function to find movies similar to a randomly selected movie based on cosine similarity in the reduced feature space.\n"
   ]
  },
  {
   "cell_type": "code",
   "execution_count": 35,
   "id": "2c045542-7ba0-4aa5-86b6-129a343a3f9a",
   "metadata": {},
   "outputs": [],
   "source": [
    "def get_similar_movies_svd(num_movies=5):\n",
    "    # Pick a random movie from the list of available titles\n",
    "    # random_movie = random.choice(ratings_matrix.columns)\n",
    "    random_movie = 'Indiana Jones and the Last Crusade (1989)'\n",
    "    print(f\"Randomly selected movie: {random_movie}\")\n",
    "    \n",
    "    # Find the index of the movie in the original ratings matrix\n",
    "    movie_idx = ratings_matrix.columns.get_loc(random_movie)\n",
    "    \n",
    "    # Get the vector for the specified movie in the reduced feature space\n",
    "    movie_vec = svd_matrix[movie_idx].reshape(1, -1)\n",
    "    \n",
    "    # Compute cosine similarity with other movies in the reduced space\n",
    "    cosine_sim = cosine_similarity(movie_vec, svd_matrix)[0]\n",
    "    \n",
    "    # Get indices of the top similar movies\n",
    "    similar_idx = np.argsort(cosine_sim)[-num_movies-1:-1][::-1]\n",
    "    \n",
    "    # Return the titles of the most similar movies\n",
    "    return ratings_matrix.columns[similar_idx].tolist()\n"
   ]
  },
  {
   "cell_type": "markdown",
   "id": "939c2265-7f1e-498e-afc7-dd8372b56cbc",
   "metadata": {},
   "source": [
    "## Get Movie Recommendations\n",
    "Now, let's get recommendations based on a randomly selected movie."
   ]
  },
  {
   "cell_type": "code",
   "execution_count": 37,
   "id": "5924f06d-0097-4e85-bfe9-348aebb603b4",
   "metadata": {},
   "outputs": [
    {
     "name": "stdout",
     "output_type": "stream",
     "text": [
      "Randomly selected movie: Indiana Jones and the Last Crusade (1989)\n",
      "Recommended movies: ['Empire Strikes Back, The (1980)', 'Back to the Future (1985)', 'Raiders of the Lost Ark (1981)', 'Groundhog Day (1993)', 'Jurassic Park (1993)', 'Speed (1994)', 'Hunt for Red October, The (1990)', 'Terminator, The (1984)', 'Fugitive, The (1993)', 'Princess Bride, The (1987)', 'Terminator 2: Judgment Day (1991)', 'Blues Brothers, The (1980)', 'Top Gun (1986)', 'Braveheart (1995)', 'Batman (1989)', 'Monty Python and the Holy Grail (1974)', 'E.T. the Extra-Terrestrial (1982)', 'True Lies (1994)', 'Apollo 13 (1995)', 'Dances with Wolves (1990)', 'Forrest Gump (1994)', 'When Harry Met Sally... (1989)', 'Sneakers (1992)', 'Dead Poets Society (1989)', 'Dave (1993)', 'Star Trek: The Wrath of Khan (1982)', 'Aliens (1986)', 'Die Hard (1988)', 'Alien (1979)', 'Maverick (1994)', 'Blade Runner (1982)', 'Get Shorty (1995)', 'Sleepless in Seattle (1993)', 'Return of the Jedi (1983)', 'Pulp Fiction (1994)', 'In the Line of Fire (1993)', 'Aladdin (1992)', 'Star Wars (1977)', 'Star Trek IV: The Voyage Home (1986)', 'Clear and Present Danger (1994)', 'Glory (1989)', 'Lion King, The (1994)', 'Field of Dreams (1989)', 'Stand by Me (1986)', 'Grease (1978)', 'American President, The (1995)', 'Mrs. Doubtfire (1993)', 'Four Weddings and a Funeral (1994)', 'Sound of Music, The (1965)', 'Young Frankenstein (1974)', 'Star Trek III: The Search for Spock (1984)', 'Silence of the Lambs, The (1991)', 'Pretty Woman (1990)', \"It's a Wonderful Life (1946)\", 'Wizard of Oz, The (1939)', 'Highlander (1986)', 'GoldenEye (1995)', 'Batman Returns (1992)', 'Fish Called Wanda, A (1988)', 'Amadeus (1984)', 'Clueless (1995)', 'Raising Arizona (1987)', 'Ghost (1990)', 'Star Trek VI: The Undiscovered Country (1991)', 'Die Hard: With a Vengeance (1995)', 'Die Hard 2 (1990)', 'Beauty and the Beast (1991)', 'Jaws (1975)', 'Shawshank Redemption, The (1994)', 'Seven (Se7en) (1995)', 'Full Metal Jacket (1987)', 'While You Were Sleeping (1995)', 'Searching for Bobby Fischer (1993)', 'Babe (1995)', 'Mary Poppins (1964)', 'Home Alone (1990)', 'Real Genius (1985)', 'Butch Cassidy and the Sundance Kid (1969)', 'Mask, The (1994)', \"Schindler's List (1993)\", 'Under Siege (1992)', 'Crimson Tide (1995)', 'Jumanji (1995)', 'M*A*S*H (1970)', 'GoodFellas (1990)', 'Good, The Bad and The Ugly, The (1966)', 'Sting, The (1973)', 'Crow, The (1994)', 'Gandhi (1982)', 'Toy Story (1995)', 'Last of the Mohicans, The (1992)', 'Heathers (1989)', 'Nightmare Before Christmas, The (1993)', 'Snow White and the Seven Dwarfs (1937)', '2001: A Space Odyssey (1968)', 'Fantasia (1940)', 'Independence Day (ID4) (1996)', 'Star Trek: The Motion Picture (1979)', 'Sword in the Stone, The (1963)', 'Young Guns (1988)']\n"
     ]
    }
   ],
   "source": [
    "# Run the function to see recommendations for a random movie\n",
    "recommended_movies = get_similar_movies_svd(100)\n",
    "print(\"Recommended movies:\", recommended_movies)"
   ]
  },
  {
   "cell_type": "code",
   "execution_count": 38,
   "id": "c96422e4-474c-4d80-aae9-26f990adb9a0",
   "metadata": {},
   "outputs": [],
   "source": [
    "import pickle\n",
    "\n",
    "# Save the SVD matrix\n",
    "with open('../app/models/svd_matrix.pkl', 'wb') as f:\n",
    "    pickle.dump(svd_matrix, f)\n",
    "\n",
    "# Save the SVD model (optional, if you need to retrain or use components)\n",
    "with open('../app/models/svd_model.pkl', 'wb') as f:\n",
    "    pickle.dump(svd, f)"
   ]
  },
  {
   "cell_type": "code",
   "execution_count": 39,
   "id": "98a040c6-a02d-42a8-b458-5733341be4a4",
   "metadata": {},
   "outputs": [],
   "source": [
    "# Save movie titles\n",
    "with open('../app/models/movie_titles.pkl', 'wb') as f:\n",
    "    pickle.dump(ratings_matrix.columns.tolist(), f)\n",
    "\n",
    "# Save ratings matrix columns (if needed)\n",
    "with open('../app/models/ratings_matrix_columns.pkl', 'wb') as f:\n",
    "    pickle.dump(ratings_matrix.columns, f)\n"
   ]
  },
  {
   "cell_type": "code",
   "execution_count": null,
   "id": "5ec22b6b-5d32-412d-b26f-d6dc0ca5dfc5",
   "metadata": {},
   "outputs": [],
   "source": []
  }
 ],
 "metadata": {
  "kernelspec": {
   "display_name": "Python 3 (ipykernel)",
   "language": "python",
   "name": "python3"
  },
  "language_info": {
   "codemirror_mode": {
    "name": "ipython",
    "version": 3
   },
   "file_extension": ".py",
   "mimetype": "text/x-python",
   "name": "python",
   "nbconvert_exporter": "python",
   "pygments_lexer": "ipython3",
   "version": "3.9.13"
  }
 },
 "nbformat": 4,
 "nbformat_minor": 5
}
