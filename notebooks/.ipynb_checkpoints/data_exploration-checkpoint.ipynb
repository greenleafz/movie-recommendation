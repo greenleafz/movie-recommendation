{
 "cells": [
  {
   "cell_type": "markdown",
   "id": "32acf77a-3833-4d81-a707-a2870d7a6748",
   "metadata": {},
   "source": [
    "# Movie Recommendation System using SVD\n",
    "In this notebook, we'll build a simple movie recommendation system using **Singular Value Decomposition (SVD)**. We'll use the MovieLens dataset to find movies similar to a randomly selected movie based on user ratings.\n",
    "\n",
    "## Import Libraries"
   ]
  },
  {
   "cell_type": "code",
   "execution_count": 29,
   "id": "2744c092-c19c-4742-942c-0f9b0a2dd597",
   "metadata": {},
   "outputs": [],
   "source": [
    "import pandas as pd\n",
    "import numpy as np\n",
    "import random\n",
    "from sklearn.metrics.pairwise import cosine_similarity\n",
    "from sklearn.decomposition import TruncatedSVD"
   ]
  },
  {
   "cell_type": "markdown",
   "id": "afa3ef83-2a88-4526-b7cc-3467cfe4effc",
   "metadata": {},
   "source": [
    "## Load the Data\n",
    "First, we'll load the user ratings and movie titles, and then merge them into a single dataframe."
   ]
  },
  {
   "cell_type": "code",
   "execution_count": 30,
   "id": "cc94eba9-1ff7-4e8a-bf08-172c023f5f07",
   "metadata": {
    "tags": []
   },
   "outputs": [],
   "source": [
    "# Load ratings data\n",
    "column_names = ['user_id', 'item_id', 'rating', 'timestamp']\n",
    "ratings = pd.read_csv('../data/movielens/u.data', sep='\\t', names=column_names)\n",
    "\n",
    "# Load movie titles\n",
    "movie_titles = pd.read_csv('../data/movielens/u.item', sep='|', encoding='latin-1',\n",
    "                           usecols=[0, 1], names=['item_id', 'title'])\n",
    "\n",
    "# Merge the datasets\n",
    "data = pd.merge(ratings, movie_titles, on='item_id')"
   ]
  },
  {
   "cell_type": "markdown",
   "id": "d1a51e10-bcf2-48cb-b8a3-4680370211fd",
   "metadata": {},
   "source": [
    "## Explore the Data\n",
    "Let's take a quick look at the data to understand its structure."
   ]
  },
  {
   "cell_type": "code",
   "execution_count": 5,
   "id": "d73ae0b7-4744-4a69-90d4-0907b0d018e6",
   "metadata": {
    "tags": []
   },
   "outputs": [
    {
     "data": {
      "text/html": [
       "<div>\n",
       "<style scoped>\n",
       "    .dataframe tbody tr th:only-of-type {\n",
       "        vertical-align: middle;\n",
       "    }\n",
       "\n",
       "    .dataframe tbody tr th {\n",
       "        vertical-align: top;\n",
       "    }\n",
       "\n",
       "    .dataframe thead th {\n",
       "        text-align: right;\n",
       "    }\n",
       "</style>\n",
       "<table border=\"1\" class=\"dataframe\">\n",
       "  <thead>\n",
       "    <tr style=\"text-align: right;\">\n",
       "      <th></th>\n",
       "      <th>user_id</th>\n",
       "      <th>item_id</th>\n",
       "      <th>rating</th>\n",
       "      <th>timestamp</th>\n",
       "      <th>title</th>\n",
       "    </tr>\n",
       "  </thead>\n",
       "  <tbody>\n",
       "    <tr>\n",
       "      <th>0</th>\n",
       "      <td>196</td>\n",
       "      <td>242</td>\n",
       "      <td>3</td>\n",
       "      <td>881250949</td>\n",
       "      <td>Kolya (1996)</td>\n",
       "    </tr>\n",
       "    <tr>\n",
       "      <th>1</th>\n",
       "      <td>63</td>\n",
       "      <td>242</td>\n",
       "      <td>3</td>\n",
       "      <td>875747190</td>\n",
       "      <td>Kolya (1996)</td>\n",
       "    </tr>\n",
       "    <tr>\n",
       "      <th>2</th>\n",
       "      <td>226</td>\n",
       "      <td>242</td>\n",
       "      <td>5</td>\n",
       "      <td>883888671</td>\n",
       "      <td>Kolya (1996)</td>\n",
       "    </tr>\n",
       "    <tr>\n",
       "      <th>3</th>\n",
       "      <td>154</td>\n",
       "      <td>242</td>\n",
       "      <td>3</td>\n",
       "      <td>879138235</td>\n",
       "      <td>Kolya (1996)</td>\n",
       "    </tr>\n",
       "    <tr>\n",
       "      <th>4</th>\n",
       "      <td>306</td>\n",
       "      <td>242</td>\n",
       "      <td>5</td>\n",
       "      <td>876503793</td>\n",
       "      <td>Kolya (1996)</td>\n",
       "    </tr>\n",
       "  </tbody>\n",
       "</table>\n",
       "</div>"
      ],
      "text/plain": [
       "   user_id  item_id  rating  timestamp         title\n",
       "0      196      242       3  881250949  Kolya (1996)\n",
       "1       63      242       3  875747190  Kolya (1996)\n",
       "2      226      242       5  883888671  Kolya (1996)\n",
       "3      154      242       3  879138235  Kolya (1996)\n",
       "4      306      242       5  876503793  Kolya (1996)"
      ]
     },
     "execution_count": 5,
     "metadata": {},
     "output_type": "execute_result"
    }
   ],
   "source": [
    "data.head()"
   ]
  },
  {
   "cell_type": "markdown",
   "id": "54242a9a-d83d-4adb-a9b6-747424638aeb",
   "metadata": {},
   "source": [
    "## Create the User-Item Ratings Matrix\n",
    "We pivot the data to create a matrix where each row represents a user and each column represents a movie. The values are the ratings given by users to movies."
   ]
  },
  {
   "cell_type": "code",
   "execution_count": 10,
   "id": "8f3adb4e-0f3c-4c03-8b11-a5d4e985d184",
   "metadata": {},
   "outputs": [],
   "source": [
    "ratings_matrix = data.pivot_table(index='user_id', columns='title', values='rating')"
   ]
  },
  {
   "cell_type": "markdown",
   "id": "f9addd7e-9c2f-4406-845e-51d64dbe5def",
   "metadata": {},
   "source": [
    "## Fill Missing Values\n",
    "Since not all users have rated all movies, there will be missing values in the matrix. We'll replace these missing values with zeros to prepare the data for SVD."
   ]
  },
  {
   "cell_type": "code",
   "execution_count": 31,
   "id": "7ea445d9-71a4-48a4-84df-1f8511d65bed",
   "metadata": {},
   "outputs": [],
   "source": [
    "ratings_matrix_filled = ratings_matrix.fillna(0)"
   ]
  },
  {
   "cell_type": "markdown",
   "id": "a3dd3950-4df1-430d-aa43-060b7f23c912",
   "metadata": {},
   "source": [
    "## Perform Singular Value Decomposition (SVD)\n",
    "We use SVD to reduce the dimensionality of the ratings matrix and uncover latent features that capture the underlying structure in the data."
   ]
  },
  {
   "cell_type": "code",
   "execution_count": 32,
   "id": "51b299a2-4d92-4a22-95be-5797f11c012b",
   "metadata": {},
   "outputs": [],
   "source": [
    "# Perform SVD with reduced components\n",
    "svd = TruncatedSVD(n_components=20)\n",
    "svd_matrix = svd.fit_transform(ratings_matrix_filled.T)"
   ]
  },
  {
   "cell_type": "markdown",
   "id": "ac7d2f7a-4252-4d09-87cb-28b9fa62f6e8",
   "metadata": {},
   "source": [
    "### Understanding SVD\n",
    "\n",
    "SVD factorizes the matrix $ A $ into three matrices:\n",
    "\n",
    "$$\n",
    "A \\approx U \\Sigma V^T\n",
    "$$\n",
    "\n",
    "- $ U $ : Left singular vectors (movies in latent feature space)\n",
    "- $ \\Sigma $ : Singular values (importance of each latent feature)\n",
    "- $ V^T $ : Right singular vectors (users in latent feature space)\n",
    "\n",
    "By reducing the number of components, we capture the most significant patterns in user ratings.\n",
    "\n",
    "### Build the Recommendation Function\n",
    "\n",
    "We define a function to find movies similar to a randomly selected movie based on cosine similarity in the reduced feature space.\n"
   ]
  },
  {
   "cell_type": "code",
   "execution_count": 33,
   "id": "2c045542-7ba0-4aa5-86b6-129a343a3f9a",
   "metadata": {},
   "outputs": [],
   "source": [
    "def get_similar_movies_svd(num_movies=5):\n",
    "    # Pick a random movie from the list of available titles\n",
    "    random_movie = random.choice(ratings_matrix.columns)\n",
    "    print(f\"Randomly selected movie: {random_movie}\")\n",
    "    \n",
    "    # Find the index of the movie in the original ratings matrix\n",
    "    movie_idx = ratings_matrix.columns.get_loc(random_movie)\n",
    "    \n",
    "    # Get the vector for the specified movie in the reduced feature space\n",
    "    movie_vec = svd_matrix[movie_idx].reshape(1, -1)\n",
    "    \n",
    "    # Compute cosine similarity with other movies in the reduced space\n",
    "    cosine_sim = cosine_similarity(movie_vec, svd_matrix)[0]\n",
    "    \n",
    "    # Get indices of the top similar movies\n",
    "    similar_idx = np.argsort(cosine_sim)[-num_movies-1:-1][::-1]\n",
    "    \n",
    "    # Return the titles of the most similar movies\n",
    "    return ratings_matrix.columns[similar_idx].tolist()\n"
   ]
  },
  {
   "cell_type": "markdown",
   "id": "939c2265-7f1e-498e-afc7-dd8372b56cbc",
   "metadata": {},
   "source": [
    "## Get Movie Recommendations\n",
    "Now, let's get recommendations based on a randomly selected movie."
   ]
  },
  {
   "cell_type": "code",
   "execution_count": 34,
   "id": "5924f06d-0097-4e85-bfe9-348aebb603b4",
   "metadata": {},
   "outputs": [
    {
     "name": "stdout",
     "output_type": "stream",
     "text": [
      "Randomly selected movie: Dumbo (1941)\n",
      "Recommended movies: ['Snow White and the Seven Dwarfs (1937)', 'Pinocchio (1940)', 'Cinderella (1950)', 'Alice in Wonderland (1951)', 'Mary Poppins (1964)']\n"
     ]
    }
   ],
   "source": [
    "# Run the function to see recommendations for a random movie\n",
    "recommended_movies = get_similar_movies_svd(5)\n",
    "print(\"Recommended movies:\", recommended_movies)"
   ]
  },
  {
   "cell_type": "code",
   "execution_count": null,
   "id": "c96422e4-474c-4d80-aae9-26f990adb9a0",
   "metadata": {},
   "outputs": [],
   "source": []
  }
 ],
 "metadata": {
  "kernelspec": {
   "display_name": "Python 3 (ipykernel)",
   "language": "python",
   "name": "python3"
  },
  "language_info": {
   "codemirror_mode": {
    "name": "ipython",
    "version": 3
   },
   "file_extension": ".py",
   "mimetype": "text/x-python",
   "name": "python",
   "nbconvert_exporter": "python",
   "pygments_lexer": "ipython3",
   "version": "3.9.13"
  }
 },
 "nbformat": 4,
 "nbformat_minor": 5
}
